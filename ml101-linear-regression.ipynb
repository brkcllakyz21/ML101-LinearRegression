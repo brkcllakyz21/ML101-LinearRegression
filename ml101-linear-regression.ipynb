{
 "cells": [
  {
   "cell_type": "markdown",
   "id": "f8f5a535",
   "metadata": {
    "papermill": {
     "duration": 0.024551,
     "end_time": "2021-10-21T19:37:13.464421",
     "exception": false,
     "start_time": "2021-10-21T19:37:13.439870",
     "status": "completed"
    },
    "tags": []
   },
   "source": [
    "* Her hafta yeni bir algoritma öğreneceğimiz maceramızın ilk adımından yani Lineer Regresyon algoritmasından hepinize merhabalar. Bu notebook'ta, Lineer Regresyon algoritmamızı kendi oluşturmuş olduğumuz bir veri setini kullanarak uygulayacak, çıktılarını değerlendirip parametreleri değiştirip tekrar deneyip günün sonunda en başarılı Lineer Regresyon doğrusunu bulmaya çalışacağız. Hatta doğrumuzun bir de grafiğini çizdirip nasıl bir tahmin yaptığını da daha rahat görebileceğiz. Kütüphaneleri içe aktararak başlayalım.\n",
    "* Hello to all of you from the first step of our adventure, where we will learn a new algorithm every week, namely the Linear Regression algorithm. In this notebook, we will apply our Linear Regression algorithm using a data set we have created, evaluate the outputs, change the parameters and try again, and try to find the most successful Linear Regression line at the end of the day. In fact, we will be able to draw a graph of our line and see what kind of prediction it makes more easily. Let's start by importing the libraries."
   ]
  },
  {
   "cell_type": "code",
   "execution_count": 1,
   "id": "14c82528",
   "metadata": {
    "_cell_guid": "b1076dfc-b9ad-4769-8c92-a6c4dae69d19",
    "_uuid": "8f2839f25d086af736a60e9eeb907d3b93b6e0e5",
    "execution": {
     "iopub.execute_input": "2021-10-21T19:37:13.517088Z",
     "iopub.status.busy": "2021-10-21T19:37:13.515130Z",
     "iopub.status.idle": "2021-10-21T19:37:14.598915Z",
     "shell.execute_reply": "2021-10-21T19:37:14.598263Z",
     "shell.execute_reply.started": "2021-10-21T18:53:12.618544Z"
    },
    "papermill": {
     "duration": 1.111527,
     "end_time": "2021-10-21T19:37:14.599131",
     "exception": false,
     "start_time": "2021-10-21T19:37:13.487604",
     "status": "completed"
    },
    "tags": []
   },
   "outputs": [],
   "source": [
    "import pandas as pd\n",
    "import numpy as np\n",
    "from sklearn.datasets import make_regression \n",
    "from sklearn.linear_model import LinearRegression\n",
    "import matplotlib.pyplot as plt\n",
    "from sklearn.model_selection import train_test_split"
   ]
  },
  {
   "cell_type": "markdown",
   "id": "27451f47",
   "metadata": {
    "papermill": {
     "duration": 0.022967,
     "end_time": "2021-10-21T19:37:14.646051",
     "exception": false,
     "start_time": "2021-10-21T19:37:14.623084",
     "status": "completed"
    },
    "tags": []
   },
   "source": [
    "* Öncelikle Lineer Regresyon uygulamak için bir veri seti oluşturalım. Sevgili kütüphanemiz sklearn bize make_regression adında bir yöntem sunuyor. Bu yöntem, koşullarınızı kullanarak sizin için bir veri kümesi oluşturur. Bu notebook'ta make_regression yöntemini kullanarak sadece bir input sütunu ve buna karşılık gelen bir output sütunu içeren bir veri seti oluşturacağız. Bu veri setinde 10.000 satırımız olacak. Bir veri kümesi oluşturmak için yöntemimizi çağıralım ve ardından veri noktalarımızı net bir şekilde görmek için bu verileri görselleştirelim.\n",
    "* Firstly, let's create a dataset to apply Linear Regression. Our lovely library is sklearn provides us a method which name is make_regression. This method creates a dataset for you by using your conditions. In this notebook, we will create a dataset with only one input column and one corresponding output column by using make_regression method. We will have 10.000 rows in this dataset. Let's call our method to create a dataset and after then let's visualize this data to see our data points clearly."
   ]
  },
  {
   "cell_type": "code",
   "execution_count": 2,
   "id": "51469afe",
   "metadata": {
    "execution": {
     "iopub.execute_input": "2021-10-21T19:37:14.700070Z",
     "iopub.status.busy": "2021-10-21T19:37:14.698929Z",
     "iopub.status.idle": "2021-10-21T19:37:14.708002Z",
     "shell.execute_reply": "2021-10-21T19:37:14.708685Z",
     "shell.execute_reply.started": "2021-10-21T18:53:13.801737Z"
    },
    "papermill": {
     "duration": 0.039091,
     "end_time": "2021-10-21T19:37:14.708936",
     "exception": false,
     "start_time": "2021-10-21T19:37:14.669845",
     "status": "completed"
    },
    "tags": []
   },
   "outputs": [],
   "source": [
    "X, y = make_regression(n_samples=10000, n_features=1,\n",
    "                                      n_informative=1, shuffle=True,\n",
    "                                      random_state=42)"
   ]
  },
  {
   "cell_type": "code",
   "execution_count": 3,
   "id": "416fcd72",
   "metadata": {
    "execution": {
     "iopub.execute_input": "2021-10-21T19:37:14.771544Z",
     "iopub.status.busy": "2021-10-21T19:37:14.770605Z",
     "iopub.status.idle": "2021-10-21T19:37:15.145988Z",
     "shell.execute_reply": "2021-10-21T19:37:15.145493Z",
     "shell.execute_reply.started": "2021-10-21T18:53:13.812331Z"
    },
    "papermill": {
     "duration": 0.408734,
     "end_time": "2021-10-21T19:37:15.146147",
     "exception": false,
     "start_time": "2021-10-21T19:37:14.737413",
     "status": "completed"
    },
    "tags": []
   },
   "outputs": [
    {
     "data": {
      "text/plain": [
       "[<matplotlib.lines.Line2D at 0x7fb581e18cd0>]"
      ]
     },
     "execution_count": 3,
     "metadata": {},
     "output_type": "execute_result"
    },
    {
     "data": {
      "image/png": "[encoded data removed]",
      "text/plain": [
       "<Figure size 432x288 with 1 Axes>"
      ]
     },
     "metadata": {
      "needs_background": "light"
     },
     "output_type": "display_data"
    }
   ],
   "source": [
    "plt.plot(X, y, 'o')"
   ]
  },
  {
   "cell_type": "markdown",
   "id": "6114f9eb",
   "metadata": {
    "papermill": {
     "duration": 0.023866,
     "end_time": "2021-10-21T19:37:15.194422",
     "exception": false,
     "start_time": "2021-10-21T19:37:15.170556",
     "status": "completed"
    },
    "tags": []
   },
   "source": [
    "* Gördüğünüz gibi, verilerimiz lineer regresyon için zaten mükemmel durumda. Lineer regresyon için işleri zorlaştırmak için verilerimize biraz gürültü ekleyelim. X (input) ve y (output) verilerimizin ilk 1000 satırı için numpy kütüphanesini kullanarak yeni rastgele değerler oluşturalım ve verilerimizi yeniden çizdirelim.\n",
    "* As you can see our data is already in perfect shape for linear regression. To make things hard for linear regression let's add a little bit of noise to our data. For the first 1000 rows of our X (input) and y (output) data let's create new random values by using numpy library and re-plot our data."
   ]
  },
  {
   "cell_type": "code",
   "execution_count": 4,
   "id": "7186a2de",
   "metadata": {
    "execution": {
     "iopub.execute_input": "2021-10-21T19:37:15.246888Z",
     "iopub.status.busy": "2021-10-21T19:37:15.245974Z",
     "iopub.status.idle": "2021-10-21T19:37:15.250985Z",
     "shell.execute_reply": "2021-10-21T19:37:15.251469Z",
     "shell.execute_reply.started": "2021-10-21T18:53:14.169281Z"
    },
    "papermill": {
     "duration": 0.032312,
     "end_time": "2021-10-21T19:37:15.251635",
     "exception": false,
     "start_time": "2021-10-21T19:37:15.219323",
     "status": "completed"
    },
    "tags": []
   },
   "outputs": [],
   "source": [
    "np.random.seed(42)\n",
    "X[:1000] = 3 + 0.5 * np.random.normal(size=(1000, 1))\n",
    "y[:1000] = -3 + 10 * np.random.normal(size=1000)"
   ]
  },
  {
   "cell_type": "code",
   "execution_count": 5,
   "id": "1fc8b238",
   "metadata": {
    "execution": {
     "iopub.execute_input": "2021-10-21T19:37:15.304405Z",
     "iopub.status.busy": "2021-10-21T19:37:15.303508Z",
     "iopub.status.idle": "2021-10-21T19:37:15.511961Z",
     "shell.execute_reply": "2021-10-21T19:37:15.512413Z",
     "shell.execute_reply.started": "2021-10-21T18:53:14.176196Z"
    },
    "papermill": {
     "duration": 0.235759,
     "end_time": "2021-10-21T19:37:15.512581",
     "exception": false,
     "start_time": "2021-10-21T19:37:15.276822",
     "status": "completed"
    },
    "tags": []
   },
   "outputs": [
    {
     "data": {
      "text/plain": [
       "[<matplotlib.lines.Line2D at 0x7fb579ccf350>]"
      ]
     },
     "execution_count": 5,
     "metadata": {},
     "output_type": "execute_result"
    },
    {
     "data": {
      "image/png": "[encoded data removed]",
      "text/plain": [
       "<Figure size 432x288 with 1 Axes>"
      ]
     },
     "metadata": {
      "needs_background": "light"
     },
     "output_type": "display_data"
    }
   ],
   "source": [
    "plt.plot(X, y, 'o')"
   ]
  },
  {
   "cell_type": "markdown",
   "id": "52b0c088",
   "metadata": {
    "papermill": {
     "duration": 0.024439,
     "end_time": "2021-10-21T19:37:15.561752",
     "exception": false,
     "start_time": "2021-10-21T19:37:15.537313",
     "status": "completed"
    },
    "tags": []
   },
   "source": [
    "* Şimdi her şey biraz daha karmaşık görünüyor. Tahmin yapmak hala çok daha kolay görünüyor ama artık lineer regresyon algoritması uygulayacak bir veri setimiz var. Bir intercept(doğru denklemindeki sabit değer) değeri olmayan bir lineer regresyon doğrusu oluşturmak için fit_intercept parametre değerini \"False\" olarak ayarlayarak Doğrusal Regresyon yöntemimizden bir örnek oluşturarak başlayalım.\n",
    "* Now everything looks a bit more complex. It still looks too much easier to make predictions but in the end, we now have a dataset to apply linear regression algorithm. Let's start by creating an instance from our Linear Regression method by setting fit_intercept parameter value to \"False\" to create a linear regression line without an intercept value(constant value in the line equation)."
   ]
  },
  {
   "cell_type": "code",
   "execution_count": 6,
   "id": "548883cf",
   "metadata": {
    "execution": {
     "iopub.execute_input": "2021-10-21T19:37:15.614865Z",
     "iopub.status.busy": "2021-10-21T19:37:15.614315Z",
     "iopub.status.idle": "2021-10-21T19:37:15.617329Z",
     "shell.execute_reply": "2021-10-21T19:37:15.617764Z",
     "shell.execute_reply.started": "2021-10-21T18:53:14.361195Z"
    },
    "papermill": {
     "duration": 0.030997,
     "end_time": "2021-10-21T19:37:15.617934",
     "exception": false,
     "start_time": "2021-10-21T19:37:15.586937",
     "status": "completed"
    },
    "tags": []
   },
   "outputs": [],
   "source": [
    "reg = LinearRegression(fit_intercept = False)"
   ]
  },
  {
   "cell_type": "markdown",
   "id": "77295d20",
   "metadata": {
    "papermill": {
     "duration": 0.024287,
     "end_time": "2021-10-21T19:37:15.667184",
     "exception": false,
     "start_time": "2021-10-21T19:37:15.642897",
     "status": "completed"
    },
    "tags": []
   },
   "source": [
    "* Şimdi verilerimizi eğitim ve test kısımları olmak üzere 2 parçaya ayıralım. Bu verileri bölmek için sklearn'in train_test_split yöntemini kullanacağız. Verilerimizin 0.67'sini eğitim verisi ve geri kalanını test verisi olarak bölelim.\n",
    "* Now let's split our data into 2 parts which are train and test parts. To split this data, we will use sklearn's train_test_split method. Let's split 0.67 of our data as train data and the rest as test data. "
   ]
  },
  {
   "cell_type": "code",
   "execution_count": 7,
   "id": "406a9e98",
   "metadata": {
    "execution": {
     "iopub.execute_input": "2021-10-21T19:37:15.722786Z",
     "iopub.status.busy": "2021-10-21T19:37:15.722164Z",
     "iopub.status.idle": "2021-10-21T19:37:15.725832Z",
     "shell.execute_reply": "2021-10-21T19:37:15.725355Z",
     "shell.execute_reply.started": "2021-10-21T18:53:14.366209Z"
    },
    "papermill": {
     "duration": 0.033945,
     "end_time": "2021-10-21T19:37:15.725961",
     "exception": false,
     "start_time": "2021-10-21T19:37:15.692016",
     "status": "completed"
    },
    "tags": []
   },
   "outputs": [],
   "source": [
    "X_train, X_test, y_train, y_test = train_test_split(X, y, test_size=0.33, random_state=42)"
   ]
  },
  {
   "cell_type": "markdown",
   "id": "48367c60",
   "metadata": {
    "papermill": {
     "duration": 0.024409,
     "end_time": "2021-10-21T19:37:15.775667",
     "exception": false,
     "start_time": "2021-10-21T19:37:15.751258",
     "status": "completed"
    },
    "tags": []
   },
   "source": [
    "* Lineer regresyon modelimizi eğitmeye hazırız. Eğitim verilerimizi en iyi temsil eden doğruyu oluşturmak için regresyon modelimizin \"fit\" yöntemini çağıralım.\n",
    "* We are ready to train our linear regression model. Let's call the \"fit\" method of our regression model to create a line which is representing our train data as the best one. "
   ]
  },
  {
   "cell_type": "code",
   "execution_count": 8,
   "id": "985ed9f7",
   "metadata": {
    "execution": {
     "iopub.execute_input": "2021-10-21T19:37:15.830602Z",
     "iopub.status.busy": "2021-10-21T19:37:15.829937Z",
     "iopub.status.idle": "2021-10-21T19:37:15.844280Z",
     "shell.execute_reply": "2021-10-21T19:37:15.844724Z",
     "shell.execute_reply.started": "2021-10-21T18:53:14.379321Z"
    },
    "papermill": {
     "duration": 0.043727,
     "end_time": "2021-10-21T19:37:15.844903",
     "exception": false,
     "start_time": "2021-10-21T19:37:15.801176",
     "status": "completed"
    },
    "tags": []
   },
   "outputs": [],
   "source": [
    "fit_model = reg.fit(X_train, y_train)"
   ]
  },
  {
   "cell_type": "markdown",
   "id": "5bee57c6",
   "metadata": {
    "papermill": {
     "duration": 0.024709,
     "end_time": "2021-10-21T19:37:15.894597",
     "exception": false,
     "start_time": "2021-10-21T19:37:15.869888",
     "status": "completed"
    },
    "tags": []
   },
   "source": [
    "* Şimdiye kadar doğrusal bir regresyon modeline uydurabilmek için veriler oluşturduk. Eğitim verilerini kullanarak bir lineer regresyon modeli eğittik. Şimdi Python'da bir yerde bir doğrumuz var. Bu doğrunun ne olduğunu merak etmiyor musunuz? Lineer regresyon doğrusunun katsayılarını ve sabit değerini görmek için lineer regresyonun \"coef_\" ve \"intercept_\" özniteliklerini çağıralım.\n",
    "* So far we have created data to fit a linear regression model. We have trained a linear regression model by using train data. Now we have a line somewhere in Python. Are not you wondering what is this line? Let's call \"coef_\"  and \"intercept_\" attributes of linear regression to see the coefficients and intercept value of the linear regression line. "
   ]
  },
  {
   "cell_type": "code",
   "execution_count": 9,
   "id": "bccc204a",
   "metadata": {
    "execution": {
     "iopub.execute_input": "2021-10-21T19:37:15.947731Z",
     "iopub.status.busy": "2021-10-21T19:37:15.947166Z",
     "iopub.status.idle": "2021-10-21T19:37:15.953074Z",
     "shell.execute_reply": "2021-10-21T19:37:15.953479Z",
     "shell.execute_reply.started": "2021-10-21T18:53:14.402408Z"
    },
    "papermill": {
     "duration": 0.03397,
     "end_time": "2021-10-21T19:37:15.953642",
     "exception": false,
     "start_time": "2021-10-21T19:37:15.919672",
     "status": "completed"
    },
    "tags": []
   },
   "outputs": [
    {
     "data": {
      "text/plain": [
       "array([15.8285946])"
      ]
     },
     "execution_count": 9,
     "metadata": {},
     "output_type": "execute_result"
    }
   ],
   "source": [
    "fit_model.coef_"
   ]
  },
  {
   "cell_type": "code",
   "execution_count": 10,
   "id": "8d57fdbd",
   "metadata": {
    "execution": {
     "iopub.execute_input": "2021-10-21T19:37:16.010603Z",
     "iopub.status.busy": "2021-10-21T19:37:16.009765Z",
     "iopub.status.idle": "2021-10-21T19:37:16.013385Z",
     "shell.execute_reply": "2021-10-21T19:37:16.012906Z",
     "shell.execute_reply.started": "2021-10-21T18:53:14.410375Z"
    },
    "papermill": {
     "duration": 0.034571,
     "end_time": "2021-10-21T19:37:16.013523",
     "exception": false,
     "start_time": "2021-10-21T19:37:15.978952",
     "status": "completed"
    },
    "tags": []
   },
   "outputs": [
    {
     "data": {
      "text/plain": [
       "0.0"
      ]
     },
     "execution_count": 10,
     "metadata": {},
     "output_type": "execute_result"
    }
   ],
   "source": [
    "fit_model.intercept_"
   ]
  },
  {
   "cell_type": "markdown",
   "id": "e8a34ecd",
   "metadata": {
    "papermill": {
     "duration": 0.025175,
     "end_time": "2021-10-21T19:37:16.064119",
     "exception": false,
     "start_time": "2021-10-21T19:37:16.038944",
     "status": "completed"
    },
    "tags": []
   },
   "source": [
    "* \"coef_\" özniteliğinin çıktısı bize eğitilmiş bir lineer regresyon doğrusunun katsayılarını gösterir. Modelimizde sadece bir girdi sütunu vardı, dolayısıyla sadece bir katsayımız var. Hatırlayacağınız gibi fit_intercept parametre değerini \"False\" yaparak lineer regresyon modelimizin doğru denklemimizde sabit bir değer oluşturmasını engelliyoruz. Bu nedenle model, sabit değeri 0 olarak ayarladı ve (y = 15.8285946 * x + 0) gibi bir doğru formülü oluşturdu. Artık modelimiz herhangi bir X değerini tahmin etmeye hazır. Doğrusal regresyonun \"predict\" yöntemini kullanarak X_test verilerinin sonuçlarını tahmin etmeye çalışalım.\n",
    "* The output of the \"coef_\" attribute shows us the coefficients of a trained linear regression line. In our model there was only one input column hence we only have one coefficient. As you remember, we prevent our linear regression model to create a constant value in our line equation by setting fit_intercept parameter value to \"False\". Hence model set the constant value to 0 and created a line formula such as (y = 15.8285946 * x + 0). Now our model is ready to predict any X value. Let's try to predict the results of X_test data by using \"predict\" method of linear regression."
   ]
  },
  {
   "cell_type": "code",
   "execution_count": 11,
   "id": "e13cd74f",
   "metadata": {
    "execution": {
     "iopub.execute_input": "2021-10-21T19:37:16.119388Z",
     "iopub.status.busy": "2021-10-21T19:37:16.118466Z",
     "iopub.status.idle": "2021-10-21T19:37:16.122362Z",
     "shell.execute_reply": "2021-10-21T19:37:16.122888Z",
     "shell.execute_reply.started": "2021-10-21T18:53:14.422873Z"
    },
    "papermill": {
     "duration": 0.032569,
     "end_time": "2021-10-21T19:37:16.123067",
     "exception": false,
     "start_time": "2021-10-21T19:37:16.090498",
     "status": "completed"
    },
    "tags": []
   },
   "outputs": [],
   "source": [
    "predictions = fit_model.predict(X_test)"
   ]
  },
  {
   "cell_type": "markdown",
   "id": "1a6096fc",
   "metadata": {
    "papermill": {
     "duration": 0.025023,
     "end_time": "2021-10-21T19:37:16.174365",
     "exception": false,
     "start_time": "2021-10-21T19:37:16.149342",
     "status": "completed"
    },
    "tags": []
   },
   "source": [
    "* Şimdi verilen X_test verilerine göre tahminlerimiz var. Herhangi bir model, verilen girdiyi kullanarak herhangi bir değeri tahmin edebilir. Fakat tahminlerin doğru olduğunu nasıl bilebiliriz? Bir sınıflandırma algoritması için, tahmin edilen sınıf gerçek sınıfla aynıysa, bu tahminin doğru olduğu anlamına gelir. Ancak bir regresyon algoritması için bu tam olarak doğru değildir. Bir yakıt tüketimi probleminiz olduğunu düşünün. Bir arabanın 100 mil boyunca ne kadar yakıt tükettiğini tahmin etmek istiyorsunuz. Gerçek değer 100 mil başına 18,3 galon iken, regresyon modeliniz bu değeri 100 mil başına 22,4 galon olarak tahmin ediyor. Modelin tamamen yanlış olduğunu söyleyemeyiz. Hala yanlış ama 100 mil başına 3,9 galona eşit bir \"hata\" ile de doğru. Bu hesaplamayı verilerimizdeki tüm veri noktaları için yaparsak ve bu değerleri toplarsak, regresyon modelimizin genel hatasını bulabiliriz. Bulabilir miyiz? Bu değeri hesaplamak için kendi metodumuzu oluşturalım.\n",
    "* Now we have our predictions according to the given X_test data. Any model can predict any value by using the given input. But how can we know that the predictions are true? For a classification algorithm, we can easily say that if the predicted class is the same as the real class that means the prediction is true. But for a regression algorithm, it is not exactly true. Imagine that you have a fuel consumption problem. You want to predict how much fuel a car consumes for 100 miles. While the real value is 18.3 gallons per 100 miles, your regression model is predicting this value as 22.4 gallons per 100 miles. We can not say the model is totally wrong. It is still wrong but it is also right with an \"error\" which is equal to 3.9 gallons per 100 miles. If we make this calculation for all of the data points in our data and we sum these values, we can find the overall error of our regression model. Can we find it? Let's create our own method to calculate this value."
   ]
  },
  {
   "cell_type": "code",
   "execution_count": 12,
   "id": "c780e677",
   "metadata": {
    "execution": {
     "iopub.execute_input": "2021-10-21T19:37:16.229921Z",
     "iopub.status.busy": "2021-10-21T19:37:16.228969Z",
     "iopub.status.idle": "2021-10-21T19:37:16.233763Z",
     "shell.execute_reply": "2021-10-21T19:37:16.234272Z",
     "shell.execute_reply.started": "2021-10-21T18:53:14.436424Z"
    },
    "papermill": {
     "duration": 0.034271,
     "end_time": "2021-10-21T19:37:16.234439",
     "exception": false,
     "start_time": "2021-10-21T19:37:16.200168",
     "status": "completed"
    },
    "tags": []
   },
   "outputs": [],
   "source": [
    "def error_calculator(prediction_values, true_values):\n",
    "    value_matrix = pd.DataFrame([true_values, prediction_values, true_values-prediction_values])\n",
    "    value_matrix = value_matrix.T\n",
    "    value_matrix = value_matrix.rename(columns = {0 : 'Real Values', 1 : 'Predictions', 2 : 'Errors'})\n",
    "    return value_matrix"
   ]
  },
  {
   "cell_type": "code",
   "execution_count": 13,
   "id": "63209e19",
   "metadata": {
    "execution": {
     "iopub.execute_input": "2021-10-21T19:37:16.289525Z",
     "iopub.status.busy": "2021-10-21T19:37:16.288592Z",
     "iopub.status.idle": "2021-10-21T19:37:16.390317Z",
     "shell.execute_reply": "2021-10-21T19:37:16.389662Z",
     "shell.execute_reply.started": "2021-10-21T18:53:14.450954Z"
    },
    "papermill": {
     "duration": 0.130681,
     "end_time": "2021-10-21T19:37:16.390455",
     "exception": false,
     "start_time": "2021-10-21T19:37:16.259774",
     "status": "completed"
    },
    "tags": []
   },
   "outputs": [],
   "source": [
    "evaluation_matrix = error_calculator(predictions, y_test)"
   ]
  },
  {
   "cell_type": "code",
   "execution_count": 14,
   "id": "2f1589cb",
   "metadata": {
    "execution": {
     "iopub.execute_input": "2021-10-21T19:37:16.444338Z",
     "iopub.status.busy": "2021-10-21T19:37:16.443489Z",
     "iopub.status.idle": "2021-10-21T19:37:16.459540Z",
     "shell.execute_reply": "2021-10-21T19:37:16.459973Z",
     "shell.execute_reply.started": "2021-10-21T18:53:14.606550Z"
    },
    "papermill": {
     "duration": 0.044518,
     "end_time": "2021-10-21T19:37:16.460161",
     "exception": false,
     "start_time": "2021-10-21T19:37:16.415643",
     "status": "completed"
    },
    "tags": []
   },
   "outputs": [
    {
     "data": {
      "text/html": [
       "<div>\n",
       "<style scoped>\n",
       "    .dataframe tbody tr th:only-of-type {\n",
       "        vertical-align: middle;\n",
       "    }\n",
       "\n",
       "    .dataframe tbody tr th {\n",
       "        vertical-align: top;\n",
       "    }\n",
       "\n",
       "    .dataframe thead th {\n",
       "        text-align: right;\n",
       "    }\n",
       "</style>\n",
       "<table border=\"1\" class=\"dataframe\">\n",
       "  <thead>\n",
       "    <tr style=\"text-align: right;\">\n",
       "      <th></th>\n",
       "      <th>Real Values</th>\n",
       "      <th>Predictions</th>\n",
       "      <th>Errors</th>\n",
       "    </tr>\n",
       "  </thead>\n",
       "  <tbody>\n",
       "    <tr>\n",
       "      <th>0</th>\n",
       "      <td>-39.488159</td>\n",
       "      <td>-19.456249</td>\n",
       "      <td>-20.031910</td>\n",
       "    </tr>\n",
       "    <tr>\n",
       "      <th>1</th>\n",
       "      <td>-14.294133</td>\n",
       "      <td>-7.042876</td>\n",
       "      <td>-7.251257</td>\n",
       "    </tr>\n",
       "    <tr>\n",
       "      <th>2</th>\n",
       "      <td>-9.083790</td>\n",
       "      <td>-4.475683</td>\n",
       "      <td>-4.608107</td>\n",
       "    </tr>\n",
       "    <tr>\n",
       "      <th>3</th>\n",
       "      <td>17.898334</td>\n",
       "      <td>8.818705</td>\n",
       "      <td>9.079629</td>\n",
       "    </tr>\n",
       "    <tr>\n",
       "      <th>4</th>\n",
       "      <td>-25.215264</td>\n",
       "      <td>-12.423837</td>\n",
       "      <td>-12.791427</td>\n",
       "    </tr>\n",
       "    <tr>\n",
       "      <th>...</th>\n",
       "      <td>...</td>\n",
       "      <td>...</td>\n",
       "      <td>...</td>\n",
       "    </tr>\n",
       "    <tr>\n",
       "      <th>3295</th>\n",
       "      <td>-2.593062</td>\n",
       "      <td>-1.277630</td>\n",
       "      <td>-1.315432</td>\n",
       "    </tr>\n",
       "    <tr>\n",
       "      <th>3296</th>\n",
       "      <td>35.464436</td>\n",
       "      <td>17.473717</td>\n",
       "      <td>17.990720</td>\n",
       "    </tr>\n",
       "    <tr>\n",
       "      <th>3297</th>\n",
       "      <td>-57.950025</td>\n",
       "      <td>-28.552613</td>\n",
       "      <td>-29.397413</td>\n",
       "    </tr>\n",
       "    <tr>\n",
       "      <th>3298</th>\n",
       "      <td>9.760330</td>\n",
       "      <td>4.809021</td>\n",
       "      <td>4.951308</td>\n",
       "    </tr>\n",
       "    <tr>\n",
       "      <th>3299</th>\n",
       "      <td>23.583546</td>\n",
       "      <td>11.619872</td>\n",
       "      <td>11.963674</td>\n",
       "    </tr>\n",
       "  </tbody>\n",
       "</table>\n",
       "<p>3300 rows × 3 columns</p>\n",
       "</div>"
      ],
      "text/plain": [
       "      Real Values  Predictions     Errors\n",
       "0      -39.488159   -19.456249 -20.031910\n",
       "1      -14.294133    -7.042876  -7.251257\n",
       "2       -9.083790    -4.475683  -4.608107\n",
       "3       17.898334     8.818705   9.079629\n",
       "4      -25.215264   -12.423837 -12.791427\n",
       "...           ...          ...        ...\n",
       "3295    -2.593062    -1.277630  -1.315432\n",
       "3296    35.464436    17.473717  17.990720\n",
       "3297   -57.950025   -28.552613 -29.397413\n",
       "3298     9.760330     4.809021   4.951308\n",
       "3299    23.583546    11.619872  11.963674\n",
       "\n",
       "[3300 rows x 3 columns]"
      ]
     },
     "execution_count": 14,
     "metadata": {},
     "output_type": "execute_result"
    }
   ],
   "source": [
    "evaluation_matrix"
   ]
  },
  {
   "cell_type": "code",
   "execution_count": 15,
   "id": "7360984d",
   "metadata": {
    "execution": {
     "iopub.execute_input": "2021-10-21T19:37:16.514950Z",
     "iopub.status.busy": "2021-10-21T19:37:16.514043Z",
     "iopub.status.idle": "2021-10-21T19:37:16.523375Z",
     "shell.execute_reply": "2021-10-21T19:37:16.524180Z",
     "shell.execute_reply.started": "2021-10-21T18:53:14.629242Z"
    },
    "papermill": {
     "duration": 0.038662,
     "end_time": "2021-10-21T19:37:16.524443",
     "exception": false,
     "start_time": "2021-10-21T19:37:16.485781",
     "status": "completed"
    },
    "tags": []
   },
   "outputs": [
    {
     "name": "stdout",
     "output_type": "stream",
     "text": [
      "Overall error : -18059.991293458326\n"
     ]
    }
   ],
   "source": [
    "print('Overall error : {0}'.format(str(evaluation_matrix['Errors'].sum())))"
   ]
  },
  {
   "cell_type": "markdown",
   "id": "e524021c",
   "metadata": {
    "papermill": {
     "duration": 0.025605,
     "end_time": "2021-10-21T19:37:16.580618",
     "exception": false,
     "start_time": "2021-10-21T19:37:16.555013",
     "status": "completed"
    },
    "tags": []
   },
   "source": [
    "* Tahminleri ve gerçek değerleri girdi olarak alan bir metot oluşturduk. Bu metot, gerçek değerleri, tahmin değerlerini ve gerçek değer - tahmin değerine eşit olan hataları saklayan bir data frame oluşturuyor. \"Errors\" sütunundaki tüm değerleri topladığımızda -18059 ile karşılaşıyoruz. Ama bu gerçekten doğru mu? 5. (index 4) satır ve 3300. (index 3299) satırdaki hata değerlerini kontrol edelim. Bu değerler yaklaşık -12,7 ve 11,9'dur. Bu iki değeri toplarsak, bu iki veri noktasının toplam hatasını -0,8 olarak buluruz ancak haklısınız bu hata değerlerini doğrudan toplayamayız. Bu toplam, pozitif ve negatif değerler nedeniyle hataların birbirini yok etmesine neden olabilir. Hata değerlerinin karesini alarak negatiflik etkisini ortadan kaldırmaya çalışalım.\n",
    "* We have created a method that takes predictions and real values as input. This method is creating a data frame that stores real values, prediction values, and errors which is equal to real value - prediction value. Once we sum all of the values in the \"Errors\" column we come up with -18059. But is it really true? Let's check the error values at the 5th (index 4) row and the 3300th (index 3299) row. These values are approximately -12,7 and 11,9. If we sum these two values we find the overall error of these two data points as -0,8 but you are right we can not directly sum these error values. This summation can cause errors to destroy each other because of positive and negative values. Let's try to eliminate the effect of negativity by taking the square of error values.  "
   ]
  },
  {
   "cell_type": "code",
   "execution_count": 16,
   "id": "a90f8bf7",
   "metadata": {
    "execution": {
     "iopub.execute_input": "2021-10-21T19:37:16.635866Z",
     "iopub.status.busy": "2021-10-21T19:37:16.635292Z",
     "iopub.status.idle": "2021-10-21T19:37:16.652389Z",
     "shell.execute_reply": "2021-10-21T19:37:16.652826Z",
     "shell.execute_reply.started": "2021-10-21T18:53:14.640359Z"
    },
    "papermill": {
     "duration": 0.046351,
     "end_time": "2021-10-21T19:37:16.652984",
     "exception": false,
     "start_time": "2021-10-21T19:37:16.606633",
     "status": "completed"
    },
    "tags": []
   },
   "outputs": [
    {
     "data": {
      "text/html": [
       "<div>\n",
       "<style scoped>\n",
       "    .dataframe tbody tr th:only-of-type {\n",
       "        vertical-align: middle;\n",
       "    }\n",
       "\n",
       "    .dataframe tbody tr th {\n",
       "        vertical-align: top;\n",
       "    }\n",
       "\n",
       "    .dataframe thead th {\n",
       "        text-align: right;\n",
       "    }\n",
       "</style>\n",
       "<table border=\"1\" class=\"dataframe\">\n",
       "  <thead>\n",
       "    <tr style=\"text-align: right;\">\n",
       "      <th></th>\n",
       "      <th>Real Values</th>\n",
       "      <th>Predictions</th>\n",
       "      <th>Errors</th>\n",
       "      <th>SquareofErrors</th>\n",
       "      <th>RootofSquares</th>\n",
       "    </tr>\n",
       "  </thead>\n",
       "  <tbody>\n",
       "    <tr>\n",
       "      <th>0</th>\n",
       "      <td>-39.488159</td>\n",
       "      <td>-19.456249</td>\n",
       "      <td>-20.031910</td>\n",
       "      <td>401.277423</td>\n",
       "      <td>20.031910</td>\n",
       "    </tr>\n",
       "    <tr>\n",
       "      <th>1</th>\n",
       "      <td>-14.294133</td>\n",
       "      <td>-7.042876</td>\n",
       "      <td>-7.251257</td>\n",
       "      <td>52.580727</td>\n",
       "      <td>7.251257</td>\n",
       "    </tr>\n",
       "    <tr>\n",
       "      <th>2</th>\n",
       "      <td>-9.083790</td>\n",
       "      <td>-4.475683</td>\n",
       "      <td>-4.608107</td>\n",
       "      <td>21.234649</td>\n",
       "      <td>4.608107</td>\n",
       "    </tr>\n",
       "    <tr>\n",
       "      <th>3</th>\n",
       "      <td>17.898334</td>\n",
       "      <td>8.818705</td>\n",
       "      <td>9.079629</td>\n",
       "      <td>82.439658</td>\n",
       "      <td>9.079629</td>\n",
       "    </tr>\n",
       "    <tr>\n",
       "      <th>4</th>\n",
       "      <td>-25.215264</td>\n",
       "      <td>-12.423837</td>\n",
       "      <td>-12.791427</td>\n",
       "      <td>163.620609</td>\n",
       "      <td>12.791427</td>\n",
       "    </tr>\n",
       "    <tr>\n",
       "      <th>...</th>\n",
       "      <td>...</td>\n",
       "      <td>...</td>\n",
       "      <td>...</td>\n",
       "      <td>...</td>\n",
       "      <td>...</td>\n",
       "    </tr>\n",
       "    <tr>\n",
       "      <th>3295</th>\n",
       "      <td>-2.593062</td>\n",
       "      <td>-1.277630</td>\n",
       "      <td>-1.315432</td>\n",
       "      <td>1.730361</td>\n",
       "      <td>1.315432</td>\n",
       "    </tr>\n",
       "    <tr>\n",
       "      <th>3296</th>\n",
       "      <td>35.464436</td>\n",
       "      <td>17.473717</td>\n",
       "      <td>17.990720</td>\n",
       "      <td>323.665996</td>\n",
       "      <td>17.990720</td>\n",
       "    </tr>\n",
       "    <tr>\n",
       "      <th>3297</th>\n",
       "      <td>-57.950025</td>\n",
       "      <td>-28.552613</td>\n",
       "      <td>-29.397413</td>\n",
       "      <td>864.207866</td>\n",
       "      <td>29.397413</td>\n",
       "    </tr>\n",
       "    <tr>\n",
       "      <th>3298</th>\n",
       "      <td>9.760330</td>\n",
       "      <td>4.809021</td>\n",
       "      <td>4.951308</td>\n",
       "      <td>24.515453</td>\n",
       "      <td>4.951308</td>\n",
       "    </tr>\n",
       "    <tr>\n",
       "      <th>3299</th>\n",
       "      <td>23.583546</td>\n",
       "      <td>11.619872</td>\n",
       "      <td>11.963674</td>\n",
       "      <td>143.129501</td>\n",
       "      <td>11.963674</td>\n",
       "    </tr>\n",
       "  </tbody>\n",
       "</table>\n",
       "<p>3300 rows × 5 columns</p>\n",
       "</div>"
      ],
      "text/plain": [
       "      Real Values  Predictions     Errors  SquareofErrors  RootofSquares\n",
       "0      -39.488159   -19.456249 -20.031910      401.277423      20.031910\n",
       "1      -14.294133    -7.042876  -7.251257       52.580727       7.251257\n",
       "2       -9.083790    -4.475683  -4.608107       21.234649       4.608107\n",
       "3       17.898334     8.818705   9.079629       82.439658       9.079629\n",
       "4      -25.215264   -12.423837 -12.791427      163.620609      12.791427\n",
       "...           ...          ...        ...             ...            ...\n",
       "3295    -2.593062    -1.277630  -1.315432        1.730361       1.315432\n",
       "3296    35.464436    17.473717  17.990720      323.665996      17.990720\n",
       "3297   -57.950025   -28.552613 -29.397413      864.207866      29.397413\n",
       "3298     9.760330     4.809021   4.951308       24.515453       4.951308\n",
       "3299    23.583546    11.619872  11.963674      143.129501      11.963674\n",
       "\n",
       "[3300 rows x 5 columns]"
      ]
     },
     "execution_count": 16,
     "metadata": {},
     "output_type": "execute_result"
    }
   ],
   "source": [
    "evaluation_matrix['SquareofErrors'] = evaluation_matrix['Errors'] ** 2\n",
    "evaluation_matrix['RootofSquares'] = evaluation_matrix['SquareofErrors'] ** (0.5)\n",
    "evaluation_matrix"
   ]
  },
  {
   "cell_type": "code",
   "execution_count": 17,
   "id": "84bc2766",
   "metadata": {
    "execution": {
     "iopub.execute_input": "2021-10-21T19:37:16.708850Z",
     "iopub.status.busy": "2021-10-21T19:37:16.708290Z",
     "iopub.status.idle": "2021-10-21T19:37:16.713046Z",
     "shell.execute_reply": "2021-10-21T19:37:16.713550Z",
     "shell.execute_reply.started": "2021-10-21T18:53:14.670330Z"
    },
    "papermill": {
     "duration": 0.034252,
     "end_time": "2021-10-21T19:37:16.713702",
     "exception": false,
     "start_time": "2021-10-21T19:37:16.679450",
     "status": "completed"
    },
    "tags": []
   },
   "outputs": [
    {
     "name": "stdout",
     "output_type": "stream",
     "text": [
      "Overall error : 55420.28514226148\n"
     ]
    }
   ],
   "source": [
    "print('Overall error : {0}'.format(str(evaluation_matrix['RootofSquares'].sum())))"
   ]
  },
  {
   "cell_type": "markdown",
   "id": "90c2d346",
   "metadata": {
    "papermill": {
     "duration": 0.026337,
     "end_time": "2021-10-21T19:37:16.766842",
     "exception": false,
     "start_time": "2021-10-21T19:37:16.740505",
     "status": "completed"
    },
    "tags": []
   },
   "source": [
    "* Öncelikle tüm hata değerlerinin karesini hesapladık. Daha sonra bu hesaplamanın karekökünü alıyoruz. Bunu yaparak işaretin etkisini ortadan kaldırdık. Daha sonra \"RootofSquares\" içindeki tüm değerleri toplayarak yeni hata değerini kontrol ettik. Orijinal (\"Errors\" sütunu) hataların hepsini toplayarak bulduğumuz ilk hata değeri 18059'du ama şimdi \"RootofSquares\" sütun değerlerini toplayarak bulduğumuz hata değeri 55420. İlkinin neredeyse 3 katı ama size mantıklı geliyor mu? 55420 gibi bir hata değerinin neye göre anlamı nedir? Yüksek mi düşük mü yoksa normal mi? Değerine göre kesin bir şey söyleyemeyiz. Genel bir metrik bulmaya çalışalım. Böyle bir metrik oluşturmak için önce gerçek değerlerin ortalamasını hesaplayalım.\n",
    "* Firstly we calculated the square of all of the error values. After then we get the square root of this calculation. By doing this we eliminated the effect of the sign. After then we have checked the new error value by summing all of the values in the \"RootofSquares\". The first error value which we found by summing all of the original (\"Errors\" column) errors was 18059 but now the error value which we found by summing \"RootofSquares\" column values is 55420. It is almost 3 times the first one but does it make sense to you? What is the meaning of an error value such as 55420 according to what? Is it high, low, or normal? We are not able to say exact things according to the value. Let's try to come up with a general metric. To create such a metric first, let's calculate the mean of real values."
   ]
  },
  {
   "cell_type": "code",
   "execution_count": 18,
   "id": "831aa472",
   "metadata": {
    "execution": {
     "iopub.execute_input": "2021-10-21T19:37:16.881982Z",
     "iopub.status.busy": "2021-10-21T19:37:16.881411Z",
     "iopub.status.idle": "2021-10-21T19:37:16.886108Z",
     "shell.execute_reply": "2021-10-21T19:37:16.886571Z",
     "shell.execute_reply.started": "2021-10-21T18:53:14.677155Z"
    },
    "papermill": {
     "duration": 0.093387,
     "end_time": "2021-10-21T19:37:16.886728",
     "exception": false,
     "start_time": "2021-10-21T19:37:16.793341",
     "status": "completed"
    },
    "tags": []
   },
   "outputs": [
    {
     "name": "stdout",
     "output_type": "stream",
     "text": [
      "Mean : -0.6676087336709571\n"
     ]
    }
   ],
   "source": [
    "print('Mean : {0}'.format(str(evaluation_matrix['Real Values'].mean())))"
   ]
  },
  {
   "cell_type": "markdown",
   "id": "a22a51e9",
   "metadata": {
    "papermill": {
     "duration": 0.027339,
     "end_time": "2021-10-21T19:37:16.943955",
     "exception": false,
     "start_time": "2021-10-21T19:37:16.916616",
     "status": "completed"
    },
    "tags": []
   },
   "source": [
    "* Gerçek değerlerin ortalaması -0,67'ye eşittir. Her bir gerçek değerden gerçek değerlerin ortalamasını çıkarırsak, sonuçların karesini alır ve toplarsak, verilerimizin toplam varyansını buluruz. Ayrıca hataların kareleri de var ve bu değerleri toplarsak verilerimizin açıklanamayan (unexplained) varyansını bulabiliriz. Açıklanamayan varyans ile toplam varyans arasındaki oranı 1'den çıkarırsak, regresyon modelimiz için \"R kare değeri\" hesaplayabiliriz. Önce bu değeri hesaplamaya çalışalım sonra R karenin değerine göre değerlendirmelerimizi yapıp gerçekte ne olduğunu ve bu değerin bizim için ne anlama geldiğini anlamaya çalışalım.\n",
    "* The mean of real values is equal to -0,67. If we subtract the average real values from each of the real values, square the results, and sum them we find the total variance for our data. We also have the squares of errors and if we sum these values we can find the unexplained variance of our data. If we subtract the ratio between unexplained variance and total variance from 1, we can calculate \"the R square value\" for our regression model. Firstly let's try to calculate this value after then we will make our evaluations according to the value of R square and try to understand what really it is and what is the meaning of this value for us."
   ]
  },
  {
   "cell_type": "code",
   "execution_count": 19,
   "id": "3f028e20",
   "metadata": {
    "execution": {
     "iopub.execute_input": "2021-10-21T19:37:17.002665Z",
     "iopub.status.busy": "2021-10-21T19:37:17.002047Z",
     "iopub.status.idle": "2021-10-21T19:37:17.006677Z",
     "shell.execute_reply": "2021-10-21T19:37:17.007241Z",
     "shell.execute_reply.started": "2021-10-21T18:53:14.693107Z"
    },
    "papermill": {
     "duration": 0.035419,
     "end_time": "2021-10-21T19:37:17.007411",
     "exception": false,
     "start_time": "2021-10-21T19:37:16.971992",
     "status": "completed"
    },
    "tags": []
   },
   "outputs": [],
   "source": [
    "evaluation_matrix['TotalVariance'] = (evaluation_matrix['Real Values'] - evaluation_matrix['Real Values'].mean())**2"
   ]
  },
  {
   "cell_type": "code",
   "execution_count": 20,
   "id": "a8a45b24",
   "metadata": {
    "execution": {
     "iopub.execute_input": "2021-10-21T19:37:17.065098Z",
     "iopub.status.busy": "2021-10-21T19:37:17.064528Z",
     "iopub.status.idle": "2021-10-21T19:37:17.077727Z",
     "shell.execute_reply": "2021-10-21T19:37:17.078248Z",
     "shell.execute_reply.started": "2021-10-21T18:53:14.708484Z"
    },
    "papermill": {
     "duration": 0.043781,
     "end_time": "2021-10-21T19:37:17.078418",
     "exception": false,
     "start_time": "2021-10-21T19:37:17.034637",
     "status": "completed"
    },
    "tags": []
   },
   "outputs": [
    {
     "data": {
      "text/html": [
       "<div>\n",
       "<style scoped>\n",
       "    .dataframe tbody tr th:only-of-type {\n",
       "        vertical-align: middle;\n",
       "    }\n",
       "\n",
       "    .dataframe tbody tr th {\n",
       "        vertical-align: top;\n",
       "    }\n",
       "\n",
       "    .dataframe thead th {\n",
       "        text-align: right;\n",
       "    }\n",
       "</style>\n",
       "<table border=\"1\" class=\"dataframe\">\n",
       "  <thead>\n",
       "    <tr style=\"text-align: right;\">\n",
       "      <th></th>\n",
       "      <th>Real Values</th>\n",
       "      <th>Predictions</th>\n",
       "      <th>Errors</th>\n",
       "      <th>SquareofErrors</th>\n",
       "      <th>RootofSquares</th>\n",
       "      <th>TotalVariance</th>\n",
       "    </tr>\n",
       "  </thead>\n",
       "  <tbody>\n",
       "    <tr>\n",
       "      <th>0</th>\n",
       "      <td>-39.488159</td>\n",
       "      <td>-19.456249</td>\n",
       "      <td>-20.031910</td>\n",
       "      <td>401.277423</td>\n",
       "      <td>20.031910</td>\n",
       "      <td>1507.035122</td>\n",
       "    </tr>\n",
       "    <tr>\n",
       "      <th>1</th>\n",
       "      <td>-14.294133</td>\n",
       "      <td>-7.042876</td>\n",
       "      <td>-7.251257</td>\n",
       "      <td>52.580727</td>\n",
       "      <td>7.251257</td>\n",
       "      <td>185.682163</td>\n",
       "    </tr>\n",
       "    <tr>\n",
       "      <th>2</th>\n",
       "      <td>-9.083790</td>\n",
       "      <td>-4.475683</td>\n",
       "      <td>-4.608107</td>\n",
       "      <td>21.234649</td>\n",
       "      <td>4.608107</td>\n",
       "      <td>70.832102</td>\n",
       "    </tr>\n",
       "    <tr>\n",
       "      <th>3</th>\n",
       "      <td>17.898334</td>\n",
       "      <td>8.818705</td>\n",
       "      <td>9.079629</td>\n",
       "      <td>82.439658</td>\n",
       "      <td>9.079629</td>\n",
       "      <td>344.694238</td>\n",
       "    </tr>\n",
       "    <tr>\n",
       "      <th>4</th>\n",
       "      <td>-25.215264</td>\n",
       "      <td>-12.423837</td>\n",
       "      <td>-12.791427</td>\n",
       "      <td>163.620609</td>\n",
       "      <td>12.791427</td>\n",
       "      <td>602.587397</td>\n",
       "    </tr>\n",
       "    <tr>\n",
       "      <th>...</th>\n",
       "      <td>...</td>\n",
       "      <td>...</td>\n",
       "      <td>...</td>\n",
       "      <td>...</td>\n",
       "      <td>...</td>\n",
       "      <td>...</td>\n",
       "    </tr>\n",
       "    <tr>\n",
       "      <th>3295</th>\n",
       "      <td>-2.593062</td>\n",
       "      <td>-1.277630</td>\n",
       "      <td>-1.315432</td>\n",
       "      <td>1.730361</td>\n",
       "      <td>1.315432</td>\n",
       "      <td>3.707370</td>\n",
       "    </tr>\n",
       "    <tr>\n",
       "      <th>3296</th>\n",
       "      <td>35.464436</td>\n",
       "      <td>17.473717</td>\n",
       "      <td>17.990720</td>\n",
       "      <td>323.665996</td>\n",
       "      <td>17.990720</td>\n",
       "      <td>1305.524678</td>\n",
       "    </tr>\n",
       "    <tr>\n",
       "      <th>3297</th>\n",
       "      <td>-57.950025</td>\n",
       "      <td>-28.552613</td>\n",
       "      <td>-29.397413</td>\n",
       "      <td>864.207866</td>\n",
       "      <td>29.397413</td>\n",
       "      <td>3281.275262</td>\n",
       "    </tr>\n",
       "    <tr>\n",
       "      <th>3298</th>\n",
       "      <td>9.760330</td>\n",
       "      <td>4.809021</td>\n",
       "      <td>4.951308</td>\n",
       "      <td>24.515453</td>\n",
       "      <td>4.951308</td>\n",
       "      <td>108.741897</td>\n",
       "    </tr>\n",
       "    <tr>\n",
       "      <th>3299</th>\n",
       "      <td>23.583546</td>\n",
       "      <td>11.619872</td>\n",
       "      <td>11.963674</td>\n",
       "      <td>143.129501</td>\n",
       "      <td>11.963674</td>\n",
       "      <td>588.118497</td>\n",
       "    </tr>\n",
       "  </tbody>\n",
       "</table>\n",
       "<p>3300 rows × 6 columns</p>\n",
       "</div>"
      ],
      "text/plain": [
       "      Real Values  Predictions     Errors  SquareofErrors  RootofSquares  \\\n",
       "0      -39.488159   -19.456249 -20.031910      401.277423      20.031910   \n",
       "1      -14.294133    -7.042876  -7.251257       52.580727       7.251257   \n",
       "2       -9.083790    -4.475683  -4.608107       21.234649       4.608107   \n",
       "3       17.898334     8.818705   9.079629       82.439658       9.079629   \n",
       "4      -25.215264   -12.423837 -12.791427      163.620609      12.791427   \n",
       "...           ...          ...        ...             ...            ...   \n",
       "3295    -2.593062    -1.277630  -1.315432        1.730361       1.315432   \n",
       "3296    35.464436    17.473717  17.990720      323.665996      17.990720   \n",
       "3297   -57.950025   -28.552613 -29.397413      864.207866      29.397413   \n",
       "3298     9.760330     4.809021   4.951308       24.515453       4.951308   \n",
       "3299    23.583546    11.619872  11.963674      143.129501      11.963674   \n",
       "\n",
       "      TotalVariance  \n",
       "0       1507.035122  \n",
       "1        185.682163  \n",
       "2         70.832102  \n",
       "3        344.694238  \n",
       "4        602.587397  \n",
       "...             ...  \n",
       "3295       3.707370  \n",
       "3296    1305.524678  \n",
       "3297    3281.275262  \n",
       "3298     108.741897  \n",
       "3299     588.118497  \n",
       "\n",
       "[3300 rows x 6 columns]"
      ]
     },
     "execution_count": 20,
     "metadata": {},
     "output_type": "execute_result"
    }
   ],
   "source": [
    "evaluation_matrix"
   ]
  },
  {
   "cell_type": "code",
   "execution_count": 21,
   "id": "d5567b85",
   "metadata": {
    "execution": {
     "iopub.execute_input": "2021-10-21T19:37:17.138124Z",
     "iopub.status.busy": "2021-10-21T19:37:17.137487Z",
     "iopub.status.idle": "2021-10-21T19:37:17.143911Z",
     "shell.execute_reply": "2021-10-21T19:37:17.144368Z",
     "shell.execute_reply.started": "2021-10-21T18:53:14.732634Z"
    },
    "papermill": {
     "duration": 0.037735,
     "end_time": "2021-10-21T19:37:17.144539",
     "exception": false,
     "start_time": "2021-10-21T19:37:17.106804",
     "status": "completed"
    },
    "tags": []
   },
   "outputs": [
    {
     "name": "stdout",
     "output_type": "stream",
     "text": [
      "Unexplained Variance = 1715974.3702409766\n",
      "Total Variance = 3036650.851272557\n",
      "R Square Score = 0.434912192976723\n"
     ]
    }
   ],
   "source": [
    "UnexplainedVariance = evaluation_matrix['SquareofErrors'].sum()\n",
    "TotalVariance = evaluation_matrix['TotalVariance'].sum()\n",
    "print(\"Unexplained Variance = {0}\".format(UnexplainedVariance))\n",
    "print(\"Total Variance = {0}\".format(TotalVariance))\n",
    "print(\"R Square Score = {0}\".format(1 - (UnexplainedVariance / TotalVariance)))"
   ]
  },
  {
   "cell_type": "markdown",
   "id": "f6e4d7cc",
   "metadata": {
    "papermill": {
     "duration": 0.028422,
     "end_time": "2021-10-21T19:37:17.201198",
     "exception": false,
     "start_time": "2021-10-21T19:37:17.172776",
     "status": "completed"
    },
    "tags": []
   },
   "source": [
    "* R kare değerini 0,43 olarak buluyoruz. R kare skoru, bize verilerin regresyon doğrusuna ne kadar yakın olduğunu söyler. Başka bir deyişle, verilerimize bir regresyon doğrusuna çizme konusunda ne kadar başarılı olduğumuzu gösterir. Doğrusal bir model tarafından açıklanan hedef değişken varyasyonunun yüzdesidir. R kare skoru (belirleme katsayısı olarak da bilinir) hesaplamamızın payında, hataların toplamının karesine bulunmakta. Modelimiz verilerimize tam olarak uyuyorsa, yani 0 hata varsa R kare skoru tam olarak 1 olacaktır. R kare skoru 0 ise bu, pay ve paydanın birbirine eşit olduğu anlamına gelir. Bu durumda model, y değerlerinin ortalamasına eşit bir sabit değer tahminler. Bu tür bir modele \"sabit model\" adı verilir. Şimdi y = 15.8285946 * x olan tek bir regresyon modelimiz var. Intercept değeri olan modeli denemedik bile. Dolayısıyla bu modelin bu verileri en iyi temsil ettiğini söyleyemeyiz. Şimdi regresyon modelimize intercept değerini ekleyelim ve R kare değerini tekrar hesaplayalım.\n",
    "* We come up with a 0.43 R squared value. R squared score simply tells us how close the data are to the fitted regression line. In other words, shows us how successful we are to fit a regression line to our data. It is the percentage of the target variable variation that is explained by a linear model. At the numerator of our R squared score (also known as the coefficient of determination) calculation, we have the square of the summation of errors. If our model fits our data perfectly which means 0 error score R squared score will be exactly 1. If the R squared score is 0 that means the numerator and the denominator are equal to each other. In that case, the model is predicting a constant value that is equal to the mean of y values. That kind of model is named as\"constant model\". Now we have only one regression model which is y = 15.8285946 * x. We did not even try the model with an intercept value. Hence we can not say that this model is the best one to represent this data. Now let's add the intercept value to our regression model and calculate the r squared value again."
   ]
  },
  {
   "cell_type": "code",
   "execution_count": 22,
   "id": "86e64e7f",
   "metadata": {
    "execution": {
     "iopub.execute_input": "2021-10-21T19:37:17.263437Z",
     "iopub.status.busy": "2021-10-21T19:37:17.262694Z",
     "iopub.status.idle": "2021-10-21T19:37:17.268302Z",
     "shell.execute_reply": "2021-10-21T19:37:17.267541Z",
     "shell.execute_reply.started": "2021-10-21T18:53:19.508390Z"
    },
    "papermill": {
     "duration": 0.037877,
     "end_time": "2021-10-21T19:37:17.268467",
     "exception": false,
     "start_time": "2021-10-21T19:37:17.230590",
     "status": "completed"
    },
    "tags": []
   },
   "outputs": [
    {
     "data": {
      "text/plain": [
       "LinearRegression()"
      ]
     },
     "execution_count": 22,
     "metadata": {},
     "output_type": "execute_result"
    }
   ],
   "source": [
    "reg.set_params(fit_intercept = True)"
   ]
  },
  {
   "cell_type": "code",
   "execution_count": 23,
   "id": "4ae9f1d9",
   "metadata": {
    "execution": {
     "iopub.execute_input": "2021-10-21T19:37:17.329106Z",
     "iopub.status.busy": "2021-10-21T19:37:17.328345Z",
     "iopub.status.idle": "2021-10-21T19:37:17.333237Z",
     "shell.execute_reply": "2021-10-21T19:37:17.332668Z",
     "shell.execute_reply.started": "2021-10-21T18:53:20.895662Z"
    },
    "papermill": {
     "duration": 0.03639,
     "end_time": "2021-10-21T19:37:17.333378",
     "exception": false,
     "start_time": "2021-10-21T19:37:17.296988",
     "status": "completed"
    },
    "tags": []
   },
   "outputs": [],
   "source": [
    "fit_model = reg.fit(X_train, y_train)"
   ]
  },
  {
   "cell_type": "code",
   "execution_count": 24,
   "id": "81c70c1e",
   "metadata": {
    "execution": {
     "iopub.execute_input": "2021-10-21T19:37:17.396106Z",
     "iopub.status.busy": "2021-10-21T19:37:17.395472Z",
     "iopub.status.idle": "2021-10-21T19:37:17.398328Z",
     "shell.execute_reply": "2021-10-21T19:37:17.397803Z",
     "shell.execute_reply.started": "2021-10-21T19:23:54.625531Z"
    },
    "papermill": {
     "duration": 0.036539,
     "end_time": "2021-10-21T19:37:17.398464",
     "exception": false,
     "start_time": "2021-10-21T19:37:17.361925",
     "status": "completed"
    },
    "tags": []
   },
   "outputs": [],
   "source": [
    "predictions = fit_model.predict(X_test)"
   ]
  },
  {
   "cell_type": "code",
   "execution_count": 25,
   "id": "5be425f8",
   "metadata": {
    "execution": {
     "iopub.execute_input": "2021-10-21T19:37:17.458320Z",
     "iopub.status.busy": "2021-10-21T19:37:17.457714Z",
     "iopub.status.idle": "2021-10-21T19:37:17.462842Z",
     "shell.execute_reply": "2021-10-21T19:37:17.463413Z",
     "shell.execute_reply.started": "2021-10-21T18:54:15.485641Z"
    },
    "papermill": {
     "duration": 0.036575,
     "end_time": "2021-10-21T19:37:17.463577",
     "exception": false,
     "start_time": "2021-10-21T19:37:17.427002",
     "status": "completed"
    },
    "tags": []
   },
   "outputs": [
    {
     "data": {
      "text/plain": [
       "array([16.64810186])"
      ]
     },
     "execution_count": 25,
     "metadata": {},
     "output_type": "execute_result"
    }
   ],
   "source": [
    "fit_model.coef_"
   ]
  },
  {
   "cell_type": "code",
   "execution_count": 26,
   "id": "b25002a9",
   "metadata": {
    "execution": {
     "iopub.execute_input": "2021-10-21T19:37:17.525300Z",
     "iopub.status.busy": "2021-10-21T19:37:17.524720Z",
     "iopub.status.idle": "2021-10-21T19:37:17.528479Z",
     "shell.execute_reply": "2021-10-21T19:37:17.527913Z",
     "shell.execute_reply.started": "2021-10-21T18:54:27.598502Z"
    },
    "papermill": {
     "duration": 0.036647,
     "end_time": "2021-10-21T19:37:17.528616",
     "exception": false,
     "start_time": "2021-10-21T19:37:17.491969",
     "status": "completed"
    },
    "tags": []
   },
   "outputs": [
    {
     "data": {
      "text/plain": [
       "-5.063381766126678"
      ]
     },
     "execution_count": 26,
     "metadata": {},
     "output_type": "execute_result"
    }
   ],
   "source": [
    "fit_model.intercept_"
   ]
  },
  {
   "cell_type": "code",
   "execution_count": 27,
   "id": "26797aba",
   "metadata": {
    "execution": {
     "iopub.execute_input": "2021-10-21T19:37:17.590451Z",
     "iopub.status.busy": "2021-10-21T19:37:17.589543Z",
     "iopub.status.idle": "2021-10-21T19:37:17.595510Z",
     "shell.execute_reply": "2021-10-21T19:37:17.596095Z",
     "shell.execute_reply.started": "2021-10-21T18:53:23.646246Z"
    },
    "papermill": {
     "duration": 0.038647,
     "end_time": "2021-10-21T19:37:17.596256",
     "exception": false,
     "start_time": "2021-10-21T19:37:17.557609",
     "status": "completed"
    },
    "tags": []
   },
   "outputs": [
    {
     "data": {
      "text/plain": [
       "0.46508832694715396"
      ]
     },
     "execution_count": 27,
     "metadata": {},
     "output_type": "execute_result"
    }
   ],
   "source": [
    "fit_model.score(X_test, y_test)"
   ]
  },
  {
   "cell_type": "markdown",
   "id": "69cec0ac",
   "metadata": {
    "papermill": {
     "duration": 0.029243,
     "end_time": "2021-10-21T19:37:17.654403",
     "exception": false,
     "start_time": "2021-10-21T19:37:17.625160",
     "status": "completed"
    },
    "tags": []
   },
   "source": [
    "* Biz ne yaptık? İlk olarak sklearn'in en sihirli yöntemlerinden biri olan set_params'ı kullandık. Bu yöntem, model parametrelerini güncellememize yardımcı olur. Fit_intercept parametresinin değerini \"False\"tan \"True\"ya güncellemek için ilk modelimizde bu yöntemi kullandık. Daha sonra modelimizi tekrar fit ettik ve aynı veri setini kullanarak yeni değerler tahmin ettik. Modelimizin coef_ ve intercept_ özniteliklerini çağırdığımızda, intercept değeri -5'e eşit olan farklı bir modelimiz olduğunu görebiliriz. Ve son olarak, yeni R kare değerimiz var. Ama şimdi gördüğünüz gibi katsayı matrisimizi kullanmadık veya yeni bir tane oluşturmadık. Yepyeni bir yöntem olan \"score\" yöntemini kullandık. Bu yöntem, girdi olarak X ve y değerlerini alır ve arka planda bu verileri bir modeli eğitmek için kullanır. Yöntem bir regresyon doğrusunu çizdiğinde, yeni değerleri tahmin etmek için de kullanır. Tahminler yapıldığında yöntem, R kare skorunu hesaplamak için katsayı matrisimizle yaptığımızın aynısını yapmak için bu tahminleri kullanır ve çıktı olarak R kare skorunu döndürür. Bu iki modelin R kare sonuçlarını karşılaştırırsak, intercept değeri olanın intercept değeri olmayandan daha iyi olduğunu görebiliriz. Bu veriler için en iyi modelimiz ikinci lineer regresyon doğrusudur. Ancak bu doğru, verilerimizi bir koordinat düzleminde nasıl temsil ediyor? Hadi grafiğini çizelim!\n",
    "* What did we do? Firstly we used one of the most magical methods of sklearn that is set_params. This method helps us to update model parameters. We have used this method with our initial model to update fit_intercept parameter's value from \"False\" to \"True\". After then we have fitted our model again and predicted new values by using the same dataset. Once we call the coef_ and intercept_ attributes of our model, we can see that now we have a different model now with an intercept value that is equal to -5. And finally, we have our new R square value. But as you can see now we did not use our coefficient matrix or we did not create a new one. We have used a brand new method that is \"score\". This method gets X and y values as input and in the background uses these data to fit a model. Once the method fits a regression line it is also used to predict new values. When the predictions are done method uses these predictions to do the same thing that we did with our coefficient matrix to calculate R squared score and returns the R squared score as an output. If we compare the R squared results of these two models, we can see that the one with an intercept value is better than the one without an intercept value. For this data, our best model linear regression line is the second one. But how does this line represents our data in a coordinate plane? Let's graph it!"
   ]
  },
  {
   "cell_type": "code",
   "execution_count": 28,
   "id": "5fa5a5a3",
   "metadata": {
    "execution": {
     "iopub.execute_input": "2021-10-21T19:37:17.715738Z",
     "iopub.status.busy": "2021-10-21T19:37:17.714790Z",
     "iopub.status.idle": "2021-10-21T19:37:17.923617Z",
     "shell.execute_reply": "2021-10-21T19:37:17.924057Z",
     "shell.execute_reply.started": "2021-10-21T19:27:25.910097Z"
    },
    "papermill": {
     "duration": 0.240976,
     "end_time": "2021-10-21T19:37:17.924227",
     "exception": false,
     "start_time": "2021-10-21T19:37:17.683251",
     "status": "completed"
    },
    "tags": []
   },
   "outputs": [
    {
     "data": {
      "image/png": "[encoded data removed]",
      "text/plain": [
       "<Figure size 432x288 with 1 Axes>"
      ]
     },
     "metadata": {
      "needs_background": "light"
     },
     "output_type": "display_data"
    }
   ],
   "source": [
    "plt.plot(X_test, y_test, 'o')\n",
    "plt.plot(X_test, predictions);"
   ]
  },
  {
   "cell_type": "markdown",
   "id": "307d3ff0",
   "metadata": {
    "papermill": {
     "duration": 0.031565,
     "end_time": "2021-10-21T19:37:17.986354",
     "exception": false,
     "start_time": "2021-10-21T19:37:17.954789",
     "status": "completed"
    },
    "tags": []
   },
   "source": [
    "* Bu notebook'ta sizlere lineer regresyonu tüm detaylarıyla açıklamaya çalıştım. Umarım her şey sizin için bilgilendiricidir. Bu alıştırmaları en az bir kez daha denemenizi veya modelimize yeni şeyler eklemeyi deneyerek R kare skorundaki değişimi görmenizi öneririm. Önümüzdeki hafta ML101 serisinin ikinci algoritması olan Logistic Regression ile ilgili yeni bir notebook oluşturup paylaşacağım. Önümüzdeki Cumartesi tekrar görüşene kadar sağlıklı bir hafta geçirmenizi dilerim.\n",
    "* In this notebook, I have tried to explain linear regression to you with all of the details. I hope that everything is informative for you. I suggest you try these exercises at least one more time or you can try to add new things to our model to see the change at the R squared score. Next week I will create and share a new notebook about the second algorithm of the ML101 series that is Logistic Regression. I wish you a healthy week until we see each other the next Saturday. "
   ]
  },
  {
   "cell_type": "code",
   "execution_count": null,
   "id": "d7b3ce96",
   "metadata": {
    "papermill": {
     "duration": 0.029412,
     "end_time": "2021-10-21T19:37:18.045601",
     "exception": false,
     "start_time": "2021-10-21T19:37:18.016189",
     "status": "completed"
    },
    "tags": []
   },
   "outputs": [],
   "source": []
  }
 ],
 "metadata": {
  "kernelspec": {
   "display_name": "Python 3",
   "language": "python",
   "name": "python3"
  },
  "language_info": {
   "codemirror_mode": {
    "name": "ipython",
    "version": 3
   },
   "file_extension": ".py",
   "mimetype": "text/x-python",
   "name": "python",
   "nbconvert_exporter": "python",
   "pygments_lexer": "ipython3",
   "version": "3.7.10"
  },
  "papermill": {
   "default_parameters": {},
   "duration": 13.40755,
   "end_time": "2021-10-21T19:37:18.785484",
   "environment_variables": {},
   "exception": null,
   "input_path": "__notebook__.ipynb",
   "output_path": "__notebook__.ipynb",
   "parameters": {},
   "start_time": "2021-10-21T19:37:05.377934",
   "version": "2.3.3"
  }
 },
 "nbformat": 4,
 "nbformat_minor": 5
}
